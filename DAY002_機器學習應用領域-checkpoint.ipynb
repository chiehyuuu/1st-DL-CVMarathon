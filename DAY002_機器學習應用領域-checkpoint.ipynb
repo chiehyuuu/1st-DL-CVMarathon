{
 "cells": [
  {
   "cell_type": "markdown",
   "metadata": {},
   "source": [
    "機器學習可以發光發熱的領域-以金融業為例:\n",
    "\n",
    "資料視覺化/\n",
    "網銀APP數位平台使用熱點分析，優化UIUX\n",
    "\n",
    "監督式/\n",
    "分類問題:\n",
    "RPA:自動化檔案公文分類，增進效率\n",
    "公關新聞審查\n",
    "\n",
    "迴歸預測:\n",
    "二元分類(0,1)，以行為資料預測信用等級\n",
    "個人化風險分析\n",
    "\n",
    "半監督式\n",
    "Regtech異常行為監測，應用一類分類(One-Class Classification, OCC)\n",
    "\n",
    "非監督式學習/\n",
    "分群:精準行銷，persona建立\n",
    "推薦系統: 納入風險承受度等變數以推薦個人化金融商品(生成式模型（Generative Model）技術)\n",
    "\n",
    "深度學習/\n",
    "客服機器人\n",
    "保單內文分析歸類:\n",
    "深度類神經網路之技術可應用於解析非固定格式的證明文件，金融業可運用在經常處理非固定格式的證明文件影像檔。透過深度類神經網路技術之卷積神經網路（Convolutional Neural Networks, CNN），例如：財力證明、醫療診斷證明書等，偵測圖形中關鍵資訊的位置，將非結構化的證明文件，轉為應用系統可處理的結構化欄位，有效彌補人工作業對自動化流程造成的斷點。\n"
   ]
  }
 ],
 "metadata": {
  "kernelspec": {
   "display_name": "Python 3",
   "language": "python",
   "name": "python3"
  },
  "language_info": {
   "codemirror_mode": {
    "name": "ipython",
    "version": 3
   },
   "file_extension": ".py",
   "mimetype": "text/x-python",
   "name": "python",
   "nbconvert_exporter": "python",
   "pygments_lexer": "ipython3",
   "version": "3.8.5"
  }
 },
 "nbformat": 4,
 "nbformat_minor": 4
}
