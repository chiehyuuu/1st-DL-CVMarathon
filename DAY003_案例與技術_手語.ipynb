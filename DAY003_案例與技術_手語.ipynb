{
 "cells": [
  {
   "cell_type": "markdown",
   "metadata": {},
   "source": [
    "資料來源:\n",
    "書籍(深度學習的商戰必修課) & 雷鋒網\n",
    "\n",
    "專案的目標:\n",
    "優化身障者體驗\n",
    "\n",
    "使用的技術是:\n",
    "-銀行櫃台:\n",
    "手語->口語 影像辨識\n",
    "口語->手語 文字分析\n",
    "\n",
    "資料來源:語言資料庫\n",
    "http://sh.people.com.cn/BIG5/n2/2019/0903/c134768-33315602.html\n",
    "\n",
    "http://120.108.221.55/profchwu/ai/%E6%95%99%E6%9D%90/Introduction/%E4%BA%BA%E5%B7%A5%E6%99%BA%E6%85%A7%E5%9C%A8%E6%89%8B%E8%AA%9E%E8%BD%89%E8%AD%AF%E7%B3%BB%E7%B5%B1%E4%B9%8B%E6%87%89%E7%94%A8.pdf\n",
    "\n",
    "-線上會議:(失語者)Google 研究團隊提出即時手語偵測模型\n",
    "基於訓練好的線性回歸模型基線，使用光流數預測人體手勢何時發出。\n",
    "資料來源:及時判讀、語意資料庫\n",
    "https://technews.tw/2020/10/09/developing-real-time-automatic-sign-language-detection-for-video-conferencing/\n",
    "\n",
    "\n",
    "其他資料來源:\n",
    "Google AI blog\n",
    "Facebook Research blog\n",
    "Apple machine learning journal\n",
    "機器之心\n",
    "雷鋒網"
   ]
  }
 ],
 "metadata": {
  "kernelspec": {
   "display_name": "Python 3",
   "language": "python",
   "name": "python3"
  },
  "language_info": {
   "codemirror_mode": {
    "name": "ipython",
    "version": 3
   },
   "file_extension": ".py",
   "mimetype": "text/x-python",
   "name": "python",
   "nbconvert_exporter": "python",
   "pygments_lexer": "ipython3",
   "version": "3.8.5"
  }
 },
 "nbformat": 4,
 "nbformat_minor": 4
}
