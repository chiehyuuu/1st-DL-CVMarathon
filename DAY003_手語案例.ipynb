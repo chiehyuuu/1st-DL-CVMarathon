{
 "cells": [
  {
   "cell_type": "markdown",
   "metadata": {},
   "source": [
    "資料來源: 書籍(深度學習的商戰必修課) & 雷鋒網\n",
    "專案的目標:優化失語者體驗\n",
    "\n",
    "應用:櫃台與線上會議\n",
    "銀行櫃台:\n",
    "手語->口語 影像辨識 \n",
    "口語->手語 文字分析\n",
    "http://sh.people.com.cn/BIG5/n2/2019/0903/c134768-33315602.html\\n\n",
    "\n",
    "會議軟體\n",
    "https://technews.tw/2020/10/09/developing-real-time-automatic-sign-language-detection-for-video-conferencing/\n"
   ]
  }
 ],
 "metadata": {
  "kernelspec": {
   "display_name": "Python 3",
   "language": "python",
   "name": "python3"
  },
  "language_info": {
   "codemirror_mode": {
    "name": "ipython",
    "version": 3
   },
   "file_extension": ".py",
   "mimetype": "text/x-python",
   "name": "python",
   "nbconvert_exporter": "python",
   "pygments_lexer": "ipython3",
   "version": "3.8.5"
  }
 },
 "nbformat": 4,
 "nbformat_minor": 4
}
